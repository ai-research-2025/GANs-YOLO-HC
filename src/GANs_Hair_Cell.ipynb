{
  "nbformat": 4,
  "nbformat_minor": 0,
  "metadata": {
    "colab": {
      "provenance": [],
      "machine_shape": "hm",
      "gpuType": "V100"
    },
    "kernelspec": {
      "name": "python3",
      "display_name": "Python 3"
    },
    "language_info": {
      "name": "python"
    },
    "accelerator": "GPU"
  },
  "cells": [
    {
      "cell_type": "markdown",
      "source": [
        "# GAN for Cochlear HC Generation\n",
        "### Cole Krudwig"
      ],
      "metadata": {
        "id": "gYPQh9uDLpUm"
      }
    },
    {
      "cell_type": "code",
      "execution_count": null,
      "metadata": {
        "id": "5v6tc6V8-7Bp"
      },
      "outputs": [],
      "source": [
        "!mkdir data"
      ]
    },
    {
      "cell_type": "code",
      "source": [
        "from google.colab import drive\n",
        "drive.mount('/content/drive')\n",
        "\n",
        "import tensorflow as tf\n",
        "from tensorflow.keras import layers\n",
        "import matplotlib.pyplot as plt\n",
        "from IPython import display\n",
        "import os\n",
        "import numpy as np\n",
        "import time\n",
        "\n",
        "# Constants for generating 256x256 images\n",
        "# Need to change to your needs\n",
        "num_examples_to_generate = 1\n",
        "data_dir = 'data'\n",
        "IMG_HEIGHT, IMG_WIDTH = 256, 256\n",
        "BATCH_SIZE = 32\n",
        "noise_dim = 200\n",
        "EPOCHS = 50000\n",
        "save_path = '/content/drive/My Drive/Colab Generated Images 2/'\n",
        "\n",
        "os.makedirs(save_path, exist_ok=True)\n",
        "\n",
        "def generate_and_save_images(model, epoch, test_input):\n",
        "    prediction = model(test_input, training=False)[0]\n",
        "    plt.figure(figsize=(4, 4))\n",
        "    plt.imshow((prediction * 127.5 + 127.5).numpy().astype(np.uint8))\n",
        "    plt.axis('off')\n",
        "    plt.savefig(f'{save_path}/image_at_epoch_{epoch:04d}.png')\n",
        "    plt.close()\n",
        "\n",
        "train_dataset = tf.keras.preprocessing.image_dataset_from_directory(\n",
        "    data_dir,\n",
        "    label_mode=None,\n",
        "    image_size=(IMG_HEIGHT, IMG_WIDTH),\n",
        "    batch_size=BATCH_SIZE,\n",
        "    color_mode='rgb',\n",
        "    shuffle=True,\n",
        ")\n",
        "\n",
        "normalization_layer = tf.keras.layers.experimental.preprocessing.Rescaling(1./127.5, offset=-1)\n",
        "train_dataset = train_dataset.map(lambda x: normalization_layer(x))\n",
        "\n",
        "# Generator model for 256x256 images\n",
        "def make_generator_model():\n",
        "    model = tf.keras.Sequential([\n",
        "        layers.Dense(64*64*128, use_bias=False, input_shape=(noise_dim,)),\n",
        "        layers.BatchNormalization(),\n",
        "        layers.LeakyReLU(),\n",
        "        layers.Reshape((64, 64, 128)),\n",
        "        layers.Conv2DTranspose(128, (5, 5), strides=(2, 2), padding='same', use_bias=False),\n",
        "        layers.BatchNormalization(),\n",
        "        layers.LeakyReLU(),\n",
        "        layers.Conv2DTranspose(3, (5, 5), strides=(2, 2), padding='same', use_bias=False, activation='tanh')\n",
        "    ])\n",
        "    return model\n",
        "\n",
        "# Discriminator model for 256x256 images\n",
        "def make_discriminator_model():\n",
        "    model = tf.keras.Sequential([\n",
        "        layers.Conv2D(64, (5, 5), strides=(2, 2), padding='same', input_shape=[256, 256, 3]),\n",
        "        layers.LeakyReLU(),\n",
        "        layers.Dropout(0.3),\n",
        "        layers.Conv2D(128, (5, 5), strides=(2, 2), padding='same'),\n",
        "        layers.LeakyReLU(),\n",
        "        layers.Dropout(0.3),\n",
        "        layers.Flatten(),\n",
        "        layers.Dense(1)\n",
        "    ])\n",
        "    return model\n",
        "\n",
        "generator = make_generator_model()\n",
        "discriminator = make_discriminator_model()\n",
        "\n",
        "# Loss and optimizer\n",
        "cross_entropy = tf.keras.losses.BinaryCrossentropy(from_logits=True)\n",
        "generator_optimizer = tf.keras.optimizers.Adam(1e-4)\n",
        "discriminator_optimizer = tf.keras.optimizers.Adam(1e-4)\n",
        "\n",
        "# Loss functions\n",
        "def generator_loss(fake_output):\n",
        "    return cross_entropy(tf.ones_like(fake_output), fake_output)\n",
        "\n",
        "def discriminator_loss(real_output, fake_output):\n",
        "    real_loss = cross_entropy(tf.ones_like(real_output), real_output)\n",
        "    fake_loss = cross_entropy(tf.zeros_like(fake_output), fake_output)\n",
        "    total_loss = real_loss + fake_loss\n",
        "    return total_loss\n",
        "\n",
        "# Training step\n",
        "@tf.function\n",
        "def train_step(images):\n",
        "    noise = tf.random.normal([BATCH_SIZE, noise_dim])\n",
        "    with tf.GradientTape() as gen_tape, tf.GradientTape() as disc_tape:\n",
        "        generated_images = generator(noise, training=True)\n",
        "        real_output = discriminator(images, training=True)\n",
        "        fake_output = discriminator(generated_images, training=True)\n",
        "\n",
        "        gen_loss = generator_loss(fake_output)\n",
        "        disc_loss = discriminator_loss(real_output, fake_output)\n",
        "\n",
        "    gradients_of_generator = gen_tape.gradient(gen_loss, generator.trainable_variables)\n",
        "    gradients_of_discriminator = disc_tape.gradient(disc_loss, discriminator.trainable_variables)\n",
        "\n",
        "    generator_optimizer.apply_gradients(zip(gradients_of_generator, generator.trainable_variables))\n",
        "    discriminator_optimizer.apply_gradients(zip(gradients_of_discriminator, discriminator.trainable_variables))\n",
        "\n",
        "    return gen_loss, disc_loss\n",
        "\n",
        "# Training function\n",
        "def train(dataset, epochs, test_input):\n",
        "    with open(f'{save_path}/training_metrics.txt', 'w') as f:\n",
        "        f.write(\"Epoch,Generator Loss,Discriminator Loss\\n\")\n",
        "\n",
        "    for epoch in range(epochs):\n",
        "        start = time.time()\n",
        "        for image_batch in dataset:\n",
        "            gen_loss, disc_loss = train_step(image_batch)\n",
        "\n",
        "        # Save images and losses every 100 epochs\n",
        "        if (epoch + 1) % 100 == 0:\n",
        "            display.clear_output(wait=True)\n",
        "            generate_and_save_images(generator, epoch + 1, test_input)\n",
        "            with open(f'{save_path}/training_metrics.txt', 'a') as f:\n",
        "                f.write(f\"{epoch+1},{gen_loss.numpy()},{disc_loss.numpy()}\\n\")\n",
        "            print(f'Time for epoch {epoch + 1} is {time.time() - start} sec')\n",
        "\n",
        "    display.clear_output(wait=True)\n",
        "    generate_and_save_images(generator, epochs, test_input)  # Final image generation\n",
        "\n",
        "seed = tf.random.normal([num_examples_to_generate, noise_dim])\n",
        "\n",
        "# Start training\n",
        "train(train_dataset, EPOCHS, seed)\n"
      ],
      "metadata": {
        "colab": {
          "base_uri": "https://localhost:8080/"
        },
        "id": "e5NTSXy6_D7Y",
        "outputId": "61fc1b1f-f74d-4401-dd61-05230f0b4b82"
      },
      "execution_count": null,
      "outputs": [
        {
          "output_type": "stream",
          "name": "stdout",
          "text": [
            "Time for epoch 50000 is 0.5242900848388672 sec\n"
          ]
        }
      ]
    }
  ]
}